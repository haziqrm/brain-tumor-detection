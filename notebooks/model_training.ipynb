{
 "cells": [
  {
   "cell_type": "code",
   "execution_count": null,
   "id": "2a5feca8-9239-4d3b-9871-a9c6d9a14bdb",
   "metadata": {},
   "outputs": [
    {
     "name": "stdout",
     "output_type": "stream",
     "text": [
      "============================================================\n",
      "BRAIN TUMOR DETECTION TRAINING\n",
      "============================================================\n",
      "Using device: cpu\n",
      "\n",
      "Data directories:\n",
      "  Train: ../data/organized/train\n",
      "  Val:   ../data/organized/val\n",
      "  Test:  ../data/organized/test\n",
      "\n",
      "Loading data...\n",
      "Loaded 4568 images from 4 classes\n",
      " glioma: 1056 images\n",
      " meningioma: 1071 images\n",
      " notumor: 1276 images\n",
      " pituitary: 1165 images\n",
      "Loaded 1144 images from 4 classes\n",
      " glioma: 265 images\n",
      " meningioma: 268 images\n",
      " notumor: 319 images\n",
      " pituitary: 292 images\n",
      "Loaded 1311 images from 4 classes\n",
      " glioma: 300 images\n",
      " meningioma: 306 images\n",
      " notumor: 405 images\n",
      " pituitary: 300 images\n",
      "\n",
      "Class weights for loss function: [4.325757575757576, 4.265172735760971, 3.579937304075235, 3.921030042918455]\n",
      "\n",
      "Classes found: ['glioma', 'meningioma', 'notumor', 'pituitary']\n",
      "Number of classes: 4\n",
      "✓ Confirmed: Brain tumor dataset loaded correctly!\n",
      "\n",
      "Creating model...\n"
     ]
    },
    {
     "name": "stderr",
     "output_type": "stream",
     "text": [
      "C:\\Users\\hazza\\Desktop\\medical-anomaly-detection\\venv\\lib\\site-packages\\torchvision\\models\\_utils.py:208: UserWarning: The parameter 'pretrained' is deprecated since 0.13 and may be removed in the future, please use 'weights' instead.\n",
      "  warnings.warn(\n",
      "C:\\Users\\hazza\\Desktop\\medical-anomaly-detection\\venv\\lib\\site-packages\\torchvision\\models\\_utils.py:223: UserWarning: Arguments other than a weight enum or `None` for 'weights' are deprecated since 0.13 and may be removed in the future. The current behavior is equivalent to passing `weights=ResNet18_Weights.IMAGENET1K_V1`. You can also use `weights=ResNet18_Weights.DEFAULT` to get the most up-to-date weights.\n",
      "  warnings.warn(msg)\n"
     ]
    },
    {
     "name": "stdout",
     "output_type": "stream",
     "text": [
      "Created resnet18 model with 4 classes\n",
      "Total parameters: 11,441,220\n",
      "Trainable parameters: 11,441,220\n",
      "\n",
      "Initializing trainer...\n",
      "\n",
      "Starting training...\n",
      "============================================================\n",
      "Training for 25 epochs...\n",
      "Device: cpu\n",
      "--------------------------------------------------\n",
      "\n",
      "Epoch 1/25\n"
     ]
    },
    {
     "name": "stderr",
     "output_type": "stream",
     "text": [
      "Training: 100%|██████████████████████████████████████████████████████████| 143/143 [06:16<00:00,  2.63s/it, loss=0.244]\n",
      "Validation: 100%|██████████████████████████████████████████████████████████████████████| 36/36 [00:36<00:00,  1.02s/it]\n"
     ]
    },
    {
     "name": "stdout",
     "output_type": "stream",
     "text": [
      "Train Loss: 0.4509 | Train Acc: 0.8404\n",
      "Val Loss: 0.2584 | Val Acc: 0.9108\n",
      "Learning Rate: 0.001000\n",
      "Saved best model (Val Acc: 0.9108)\n",
      "\n",
      "Epoch 2/25\n"
     ]
    },
    {
     "name": "stderr",
     "output_type": "stream",
     "text": [
      "Training: 100%|██████████████████████████████████████████████████████████| 143/143 [06:01<00:00,  2.53s/it, loss=0.314]\n",
      "Validation: 100%|██████████████████████████████████████████████████████████████████████| 36/36 [00:34<00:00,  1.05it/s]\n"
     ]
    },
    {
     "name": "stdout",
     "output_type": "stream",
     "text": [
      "Train Loss: 0.2681 | Train Acc: 0.9120\n",
      "Val Loss: 0.4703 | Val Acc: 0.8357\n",
      "Learning Rate: 0.001000\n",
      "\n",
      "Epoch 3/25\n"
     ]
    },
    {
     "name": "stderr",
     "output_type": "stream",
     "text": [
      "Training: 100%|██████████████████████████████████████████████████████████| 143/143 [06:53<00:00,  2.89s/it, loss=0.139]\n",
      "Validation: 100%|██████████████████████████████████████████████████████████████████████| 36/36 [00:53<00:00,  1.47s/it]\n"
     ]
    },
    {
     "name": "stdout",
     "output_type": "stream",
     "text": [
      "Train Loss: 0.1993 | Train Acc: 0.9354\n",
      "Val Loss: 0.2246 | Val Acc: 0.9178\n",
      "Learning Rate: 0.001000\n",
      "Saved best model (Val Acc: 0.9178)\n",
      "\n",
      "Epoch 4/25\n"
     ]
    },
    {
     "name": "stderr",
     "output_type": "stream",
     "text": [
      "Training: 100%|██████████████████████████████████████████████████████████| 143/143 [05:43<00:00,  2.40s/it, loss=0.201]\n",
      "Validation: 100%|██████████████████████████████████████████████████████████████████████| 36/36 [00:33<00:00,  1.08it/s]\n"
     ]
    },
    {
     "name": "stdout",
     "output_type": "stream",
     "text": [
      "Train Loss: 0.1859 | Train Acc: 0.9370\n",
      "Val Loss: 0.2023 | Val Acc: 0.9231\n",
      "Learning Rate: 0.001000\n",
      "Saved best model (Val Acc: 0.9231)\n",
      "\n",
      "Epoch 5/25\n"
     ]
    },
    {
     "name": "stderr",
     "output_type": "stream",
     "text": [
      "Training: 100%|██████████████████████████████████████████████████████████| 143/143 [05:42<00:00,  2.39s/it, loss=0.212]\n",
      "Validation: 100%|██████████████████████████████████████████████████████████████████████| 36/36 [00:32<00:00,  1.12it/s]\n"
     ]
    },
    {
     "name": "stdout",
     "output_type": "stream",
     "text": [
      "Train Loss: 0.1592 | Train Acc: 0.9477\n",
      "Val Loss: 0.1257 | Val Acc: 0.9668\n",
      "Learning Rate: 0.001000\n",
      "Saved best model (Val Acc: 0.9668)\n",
      "\n",
      "Epoch 6/25\n"
     ]
    },
    {
     "name": "stderr",
     "output_type": "stream",
     "text": [
      "Training: 100%|██████████████████████████████████████████████████████████| 143/143 [05:07<00:00,  2.15s/it, loss=0.327]\n",
      "Validation: 100%|██████████████████████████████████████████████████████████████████████| 36/36 [00:28<00:00,  1.28it/s]\n"
     ]
    },
    {
     "name": "stdout",
     "output_type": "stream",
     "text": [
      "Train Loss: 0.1554 | Train Acc: 0.9518\n",
      "Val Loss: 0.7089 | Val Acc: 0.7850\n",
      "Learning Rate: 0.001000\n",
      "\n",
      "Epoch 7/25\n"
     ]
    },
    {
     "name": "stderr",
     "output_type": "stream",
     "text": [
      "Training: 100%|██████████████████████████████████████████████████████████| 143/143 [05:03<00:00,  2.12s/it, loss=0.189]\n",
      "Validation: 100%|██████████████████████████████████████████████████████████████████████| 36/36 [00:27<00:00,  1.30it/s]\n"
     ]
    },
    {
     "name": "stdout",
     "output_type": "stream",
     "text": [
      "Train Loss: 0.1286 | Train Acc: 0.9604\n",
      "Val Loss: 0.0682 | Val Acc: 0.9816\n",
      "Learning Rate: 0.001000\n",
      "Saved best model (Val Acc: 0.9816)\n",
      "\n",
      "Epoch 8/25\n"
     ]
    },
    {
     "name": "stderr",
     "output_type": "stream",
     "text": [
      "Training: 100%|█████████████████████████████████████████████████████████| 143/143 [06:07<00:00,  2.57s/it, loss=0.0198]\n",
      "Validation: 100%|██████████████████████████████████████████████████████████████████████| 36/36 [00:36<00:00,  1.01s/it]\n"
     ]
    },
    {
     "name": "stdout",
     "output_type": "stream",
     "text": [
      "Train Loss: 0.0974 | Train Acc: 0.9689\n",
      "Val Loss: 0.1387 | Val Acc: 0.9572\n",
      "Learning Rate: 0.001000\n",
      "\n",
      "Epoch 9/25\n"
     ]
    },
    {
     "name": "stderr",
     "output_type": "stream",
     "text": [
      "Training: 100%|█████████████████████████████████████████████████████████| 143/143 [05:44<00:00,  2.41s/it, loss=0.0701]\n",
      "Validation: 100%|██████████████████████████████████████████████████████████████████████| 36/36 [00:26<00:00,  1.38it/s]\n"
     ]
    },
    {
     "name": "stdout",
     "output_type": "stream",
     "text": [
      "Train Loss: 0.0981 | Train Acc: 0.9707\n",
      "Val Loss: 0.1680 | Val Acc: 0.9572\n",
      "Learning Rate: 0.001000\n",
      "\n",
      "Epoch 10/25\n"
     ]
    },
    {
     "name": "stderr",
     "output_type": "stream",
     "text": [
      "Training: 100%|██████████████████████████████████████████████████████████| 143/143 [05:14<00:00,  2.20s/it, loss=0.187]\n",
      "Validation: 100%|██████████████████████████████████████████████████████████████████████| 36/36 [00:32<00:00,  1.11it/s]\n"
     ]
    },
    {
     "name": "stdout",
     "output_type": "stream",
     "text": [
      "Train Loss: 0.0789 | Train Acc: 0.9757\n",
      "Val Loss: 0.0768 | Val Acc: 0.9764\n",
      "Learning Rate: 0.001000\n",
      "\n",
      "Epoch 11/25\n"
     ]
    },
    {
     "name": "stderr",
     "output_type": "stream",
     "text": [
      "Training: 100%|█████████████████████████████████████████████████████████| 143/143 [05:36<00:00,  2.35s/it, loss=0.0431]\n",
      "Validation: 100%|██████████████████████████████████████████████████████████████████████| 36/36 [00:27<00:00,  1.29it/s]\n"
     ]
    },
    {
     "name": "stdout",
     "output_type": "stream",
     "text": [
      "Train Loss: 0.0907 | Train Acc: 0.9733\n",
      "Val Loss: 0.4962 | Val Acc: 0.8462\n",
      "Learning Rate: 0.000500\n",
      "\n",
      "Epoch 12/25\n"
     ]
    },
    {
     "name": "stderr",
     "output_type": "stream",
     "text": [
      "Training: 100%|█████████████████████████████████████████████████████████| 143/143 [06:01<00:00,  2.53s/it, loss=0.0212]\n",
      "Validation: 100%|██████████████████████████████████████████████████████████████████████| 36/36 [00:32<00:00,  1.10it/s]\n"
     ]
    },
    {
     "name": "stdout",
     "output_type": "stream",
     "text": [
      "Train Loss: 0.0611 | Train Acc: 0.9816\n",
      "Val Loss: 0.0426 | Val Acc: 0.9869\n",
      "Learning Rate: 0.000500\n",
      "Saved best model (Val Acc: 0.9869)\n",
      "\n",
      "Epoch 13/25\n"
     ]
    },
    {
     "name": "stderr",
     "output_type": "stream",
     "text": [
      "Training: 100%|█████████████████████████████████████████████████████████| 143/143 [06:03<00:00,  2.54s/it, loss=0.0205]\n",
      "Validation: 100%|██████████████████████████████████████████████████████████████████████| 36/36 [00:34<00:00,  1.03it/s]\n"
     ]
    },
    {
     "name": "stdout",
     "output_type": "stream",
     "text": [
      "Train Loss: 0.0218 | Train Acc: 0.9923\n",
      "Val Loss: 0.0742 | Val Acc: 0.9834\n",
      "Learning Rate: 0.000500\n",
      "\n",
      "Epoch 14/25\n"
     ]
    },
    {
     "name": "stderr",
     "output_type": "stream",
     "text": [
      "Training: 100%|█████████████████████████████████████████████████████████| 143/143 [06:15<00:00,  2.62s/it, loss=0.0125]\n",
      "Validation: 100%|██████████████████████████████████████████████████████████████████████| 36/36 [00:35<00:00,  1.02it/s]\n"
     ]
    },
    {
     "name": "stdout",
     "output_type": "stream",
     "text": [
      "Train Loss: 0.0269 | Train Acc: 0.9934\n",
      "Val Loss: 0.0534 | Val Acc: 0.9860\n",
      "Learning Rate: 0.000500\n",
      "\n",
      "Epoch 15/25\n"
     ]
    },
    {
     "name": "stderr",
     "output_type": "stream",
     "text": [
      "Training: 100%|█████████████████████████████████████████████████████████| 143/143 [06:31<00:00,  2.74s/it, loss=0.0321]\n",
      "Validation: 100%|██████████████████████████████████████████████████████████████████████| 36/36 [00:34<00:00,  1.06it/s]\n"
     ]
    },
    {
     "name": "stdout",
     "output_type": "stream",
     "text": [
      "Train Loss: 0.0204 | Train Acc: 0.9932\n",
      "Val Loss: 0.0827 | Val Acc: 0.9712\n",
      "Learning Rate: 0.000500\n",
      "\n",
      "Epoch 16/25\n"
     ]
    },
    {
     "name": "stderr",
     "output_type": "stream",
     "text": [
      "Training: 100%|███████████████████████████████████████████████████████| 143/143 [06:08<00:00,  2.57s/it, loss=0.000168]\n",
      "Validation: 100%|██████████████████████████████████████████████████████████████████████| 36/36 [00:34<00:00,  1.03it/s]\n"
     ]
    },
    {
     "name": "stdout",
     "output_type": "stream",
     "text": [
      "Train Loss: 0.0165 | Train Acc: 0.9950\n",
      "Val Loss: 0.0541 | Val Acc: 0.9869\n",
      "Learning Rate: 0.000250\n",
      "\n",
      "Epoch 17/25\n"
     ]
    },
    {
     "name": "stderr",
     "output_type": "stream",
     "text": [
      "Training: 100%|████████████████████████████████████████████████████████| 143/143 [06:02<00:00,  2.54s/it, loss=0.00492]\n",
      "Validation: 100%|██████████████████████████████████████████████████████████████████████| 36/36 [00:37<00:00,  1.03s/it]\n"
     ]
    },
    {
     "name": "stdout",
     "output_type": "stream",
     "text": [
      "Train Loss: 0.0112 | Train Acc: 0.9967\n",
      "Val Loss: 0.0475 | Val Acc: 0.9904\n",
      "Learning Rate: 0.000250\n",
      "Saved best model (Val Acc: 0.9904)\n",
      "\n",
      "Epoch 18/25\n"
     ]
    },
    {
     "name": "stderr",
     "output_type": "stream",
     "text": [
      "Training:   2%|█▏                                                        | 3/143 [00:07<05:45,  2.47s/it, loss=0.00147]"
     ]
    }
   ],
   "source": [
    "import torch\n",
    "import sys\n",
    "sys.path.append('..')\n",
    "from utils.data_loader import create_data_loaders\n",
    "from models.model import create_model\n",
    "from utils.train import Trainer\n",
    "\n",
    "CONFIG = {\n",
    "    'batch_size': 32,\n",
    "    'image_size': 224,\n",
    "    'num_epochs': 25,\n",
    "    'learning_rate': 0.001,\n",
    "    'model_name': 'resnet18',\n",
    "    'device': 'cuda' if torch.cuda.is_available() else 'cpu'\n",
    "}\n",
    "\n",
    "train_dir = '../data/organized/train'\n",
    "val_dir = '../data/organized/val'\n",
    "test_dir = '../data/organized/test'\n",
    "\n",
    "print(\"=\"*60)\n",
    "print(\"BRAIN TUMOR DETECTION TRAINING\")\n",
    "print(\"=\"*60)\n",
    "print(f\"Using device: {CONFIG['device']}\")\n",
    "\n",
    "print(f\"\\nData directories:\")\n",
    "print(f\"  Train: {train_dir}\")\n",
    "print(f\"  Val:   {val_dir}\")\n",
    "print(f\"  Test:  {test_dir}\")\n",
    "\n",
    "print(\"\\nLoading data...\")\n",
    "train_loader, val_loader, test_loader, class_weights, classes = create_data_loaders(\n",
    "    train_dir=train_dir,\n",
    "    val_dir=val_dir,\n",
    "    test_dir=test_dir,\n",
    "    batch_size=CONFIG['batch_size'],\n",
    "    image_size=CONFIG['image_size'],\n",
    "    num_workers=0\n",
    ")\n",
    "\n",
    "print(f\"\\nClasses found: {classes}\")\n",
    "print(f\"Number of classes: {len(classes)}\")\n",
    "\n",
    "expected_classes = ['glioma', 'meningioma', 'notumor', 'pituitary']\n",
    "if set(classes) == set(expected_classes):\n",
    "    print(\"Confirmed: Brain tumor dataset loaded correctly!\")\n",
    "else:\n",
    "    print(\"WARNING: Classes don't match brain tumor dataset!\")\n",
    "    print(f\"   Expected: {expected_classes}\")\n",
    "    print(f\"   Got: {classes}\")\n",
    "\n",
    "print(\"\\nCreating model...\")\n",
    "model = create_model(\n",
    "    num_classes=len(classes),\n",
    "    model_name=CONFIG['model_name'],\n",
    "    device=CONFIG['device']\n",
    ")\n",
    "\n",
    "print(\"\\nInitializing trainer...\")\n",
    "trainer = Trainer(\n",
    "    model=model,\n",
    "    train_loader=train_loader,\n",
    "    val_loader=val_loader,\n",
    "    class_weights=class_weights,\n",
    "    device=CONFIG['device'],\n",
    "    learning_rate=CONFIG['learning_rate']\n",
    ")\n",
    "\n",
    "print(\"\\nStarting training...\")\n",
    "print(\"=\"*60)\n",
    "history = trainer.train(\n",
    "    num_epochs=CONFIG['num_epochs'],\n",
    "    save_path='../models/saved_models/best_brain_tumor_model.pth'\n",
    ")\n",
    "\n",
    "print(\"\\nGenerating training plots...\")\n",
    "trainer.plot_history()\n",
    "\n",
    "print(\"\\n\" + \"=\"*60)\n",
    "print(\"TRAINING COMPLETE!\")\n",
    "print(\"=\"*60)\n",
    "print(f\"Model saved to: models/saved_models/best_brain_tumor_model.pth\")\n",
    "print(f\"Training history plot saved\")"
   ]
  },
  {
   "cell_type": "code",
   "execution_count": null,
   "id": "7ab40b1d-f3d8-4d60-a672-53d1aebfebe2",
   "metadata": {},
   "outputs": [],
   "source": []
  }
 ],
 "metadata": {
  "kernelspec": {
   "display_name": "Python (Medical AI)",
   "language": "python",
   "name": "medical-ai"
  },
  "language_info": {
   "codemirror_mode": {
    "name": "ipython",
    "version": 3
   },
   "file_extension": ".py",
   "mimetype": "text/x-python",
   "name": "python",
   "nbconvert_exporter": "python",
   "pygments_lexer": "ipython3",
   "version": "3.9.13"
  }
 },
 "nbformat": 4,
 "nbformat_minor": 5
}

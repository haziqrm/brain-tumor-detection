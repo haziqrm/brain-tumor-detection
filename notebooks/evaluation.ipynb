{
 "cells": [
  {
   "cell_type": "code",
   "execution_count": null,
   "id": "c012d82d-db7c-488a-a23a-5ba7629b05f3",
   "metadata": {},
   "outputs": [],
   "source": [
    "import torch\n",
    "import sys\n",
    "sys.path.append('..')\n",
    "\n",
    "from utils.data_loader import create_data_loaders\n",
    "from models.model import create_model\n",
    "from utils.evaluate import ModelEvaluator\n",
    "\n",
    "train_dir = '../data/organized/train'\n",
    "val_dir = '../data/organized/val'\n",
    "test_dir = '../data/organized/test'\n",
    "\n",
    "_, _, test_loader, _, classes = create_data_loaders(\n",
    "    train_dir=train_dir,\n",
    "    val_dir=val_dir,\n",
    "    test_dir=test_dir,\n",
    "    batch_size=32,\n",
    "    image_size=224\n",
    ")\n",
    "\n",
    "device = 'cuda' if torch.cuda.is_available() else 'cpu'\n",
    "model = create_model(num_classes=len(classes), device=device)\n",
    "\n",
    "checkpoint = torch.load('../models/saved_models/best_model.pth')\n",
    "model.load_state_dict(checkpoint['model_state_dict'])\n",
    "\n",
    "print(f\"Loaded model from epoch {checkpoint['epoch']}\")\n",
    "print(f\"Validation accuracy: {checkpoint['val_acc']:.4f}\")\n",
    "\n",
    "evaluator = ModelEvaluator(\n",
    "    model=model,\n",
    "    test_loader=test_loader,\n",
    "    classes=classes,\n",
    "    device=device\n",
    ")\n",
    "\n",
    "error_indices = evaluator.generate_full_report()"
   ]
  }
 ],
 "metadata": {
  "kernelspec": {
   "display_name": "Python (Medical AI)",
   "language": "python",
   "name": "medical-ai"
  },
  "language_info": {
   "codemirror_mode": {
    "name": "ipython",
    "version": 3
   },
   "file_extension": ".py",
   "mimetype": "text/x-python",
   "name": "python",
   "nbconvert_exporter": "python",
   "pygments_lexer": "ipython3",
   "version": "3.9.13"
  }
 },
 "nbformat": 4,
 "nbformat_minor": 5
}
